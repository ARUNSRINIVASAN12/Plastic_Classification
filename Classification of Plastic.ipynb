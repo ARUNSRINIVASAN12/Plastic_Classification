{
  "nbformat": 4,
  "nbformat_minor": 2,
  "metadata": {
    "colab": {
      "name": "Copy of UROV.ipynb",
      "provenance": [],
      "collapsed_sections": []
    },
    "kernelspec": {
      "name": "python3",
      "display_name": "Python 3"
    },
    "language_info": {
      "name": "python"
    },
    "accelerator": "GPU"
  },
  "cells": [
    {
      "cell_type": "code",
      "execution_count": null,
      "source": [
        "from google.colab import drive\r\n",
        "drive.mount(\"/content/drive\")"
      ],
      "outputs": [
        {
          "output_type": "stream",
          "name": "stdout",
          "text": [
            "Mounted at /content/drive\n"
          ]
        }
      ],
      "metadata": {
        "colab": {
          "base_uri": "https://localhost:8080/"
        },
        "id": "Pz-2uAzF9_JZ",
        "outputId": "b5f346f5-6c07-433b-913c-a534d6cafb5c"
      }
    },
    {
      "cell_type": "code",
      "execution_count": null,
      "source": [
        "# Train/Val/Test - 0.65:0.20:0.15\r\n",
        "# CPU - Intel(R) Xeon(R) CPU @ 2.30GHz\r\n",
        "# GPU - Tesla K80"
      ],
      "outputs": [],
      "metadata": {
        "id": "6TnE5P4n-VSy"
      }
    },
    {
      "cell_type": "code",
      "execution_count": null,
      "source": [
        "from tensorflow.keras.layers import Conv2D, Dense, MaxPooling2D, Dropout, BatchNormalization, Flatten\r\n",
        "from tensorflow.keras.models import Model\r\n",
        "from tensorflow.keras.preprocessing.image import ImageDataGenerator\r\n",
        "from tensorflow.keras.applications.resnet50 import decode_predictions, preprocess_input, ResNet50\r\n",
        "import pandas as pd\r\n",
        "import numpy as np\r\n",
        "import seaborn as sn"
      ],
      "outputs": [],
      "metadata": {
        "id": "lpEwGLpd-yPy"
      }
    },
    {
      "cell_type": "code",
      "execution_count": null,
      "source": [
        "img_gen = ImageDataGenerator(preprocessing_function = preprocess_input, horizontal_flip = True, vertical_flip = True)"
      ],
      "outputs": [],
      "metadata": {
        "id": "-9coC3Xe-90j"
      }
    },
    {
      "cell_type": "code",
      "execution_count": null,
      "source": [
        "train_data = img_gen.flow_from_directory(\"/content/drive/MyDrive/Plastics\", target_size = (224,224), class_mode = \"binary\", batch_size = 32)"
      ],
      "outputs": [
        {
          "output_type": "stream",
          "name": "stdout",
          "text": [
            "Found 76 images belonging to 2 classes.\n"
          ]
        }
      ],
      "metadata": {
        "colab": {
          "base_uri": "https://localhost:8080/"
        },
        "id": "N2QAE3Hk_BEW",
        "outputId": "d2fdbe56-422f-4d0f-cb92-317d0eb763f2"
      }
    },
    {
      "cell_type": "code",
      "execution_count": null,
      "source": [
        "base_model = ResNet50(include_top = False, weights = \"imagenet\", input_shape = (224,224,3))\r\n",
        "\r\n",
        "for layer in base_model.layers :\r\n",
        "  layer.trainable = False\r\n",
        "\r\n",
        "for layer in base_model.layers[-1:] :\r\n",
        "  layer.trainable = True\r\n",
        "\r\n",
        "x = base_model.output\r\n",
        "x = Flatten()(x)\r\n",
        "x = BatchNormalization()(x)\r\n",
        "x = Dense(128, activation = \"relu\")(x)\r\n",
        "x = Dropout(0.5)(x)\r\n",
        "x = BatchNormalization()(x)\r\n",
        "pred = Dense(1, activation = \"sigmoid\")(x)\r\n",
        "\r\n",
        "model = Model(inputs = base_model.input, outputs = pred)"
      ],
      "outputs": [
        {
          "output_type": "stream",
          "name": "stdout",
          "text": [
            "Downloading data from https://storage.googleapis.com/tensorflow/keras-applications/resnet/resnet50_weights_tf_dim_ordering_tf_kernels_notop.h5\n",
            "94773248/94765736 [==============================] - 1s 0us/step\n",
            "94781440/94765736 [==============================] - 1s 0us/step\n"
          ]
        }
      ],
      "metadata": {
        "id": "MPY4INxK_JtO",
        "colab": {
          "base_uri": "https://localhost:8080/"
        },
        "outputId": "6de8cc2d-92cf-4a9c-d65d-c66761b2f340"
      }
    },
    {
      "cell_type": "code",
      "execution_count": null,
      "source": [
        "model.summary()"
      ],
      "outputs": [],
      "metadata": {
        "id": "jmI9GMuPGUG7"
      }
    },
    {
      "cell_type": "code",
      "execution_count": null,
      "source": [
        "model.compile(optimizer = \"adam\", loss = \"binary_crossentropy\", metrics = [\"accuracy\"])"
      ],
      "outputs": [],
      "metadata": {
        "id": "3r9jXNZx_oXO"
      }
    },
    {
      "cell_type": "code",
      "execution_count": null,
      "source": [
        "import tensorflow as tf\r\n",
        "\r\n",
        "with tf.device(\"/gpu:1\") :\r\n",
        "  history = model.fit(train_data, epochs = 15)"
      ],
      "outputs": [
        {
          "output_type": "stream",
          "name": "stdout",
          "text": [
            "Epoch 1/15\n"
          ]
        }
      ],
      "metadata": {
        "colab": {
          "base_uri": "https://localhost:8080/"
        },
        "id": "j-9OzCpG_qhl",
        "outputId": "d3f31fa2-3494-4e3a-f177-92ce46ef739e"
      }
    },
    {
      "cell_type": "code",
      "execution_count": null,
      "source": [
        "model.evaluate(train_data)"
      ],
      "outputs": [
        {
          "output_type": "stream",
          "name": "stdout",
          "text": [
            "48/48 [==============================] - 11s 221ms/step - loss: 0.0044 - accuracy: 1.0000\n"
          ]
        },
        {
          "output_type": "execute_result",
          "data": {
            "text/plain": [
              "[0.004366893786936998, 1.0]"
            ]
          },
          "metadata": {},
          "execution_count": 61
        }
      ],
      "metadata": {
        "colab": {
          "base_uri": "https://localhost:8080/"
        },
        "id": "JsLvItbdHmni",
        "outputId": "a7ff9475-f18e-44db-ce32-65153d944188"
      }
    },
    {
      "cell_type": "code",
      "execution_count": null,
      "source": [
        "import cv2\r\n",
        "import matplotlib.pyplot as plt\r\n",
        "\r\n",
        "img = cv2.imread(\"/content/drive/MyDrive/Plastics/negative/img1 (390).jpg\")\r\n",
        "#img = cv2.imread(\"/content/drive/MyDrive/Plastics/negative/img1 (129).jpg\")\r\n",
        "mod_img = cv2.resize(img, (224,224), interpolation = cv2.INTER_CUBIC)\r\n",
        "result = model.predict(np.array([mod_img])) # 1 - plastic / 0 - no plastic or sea bed\r\n",
        "test_img = mod_img.copy()\r\n",
        "\r\n",
        "if round(result[0][0]) == 1:\r\n",
        "  test_img = cv2.putText(test_img, \"Plastic found\", (100,15), cv2.FONT_HERSHEY_SIMPLEX, 0.5, (0,0,0), 2)\r\n",
        "else :\r\n",
        "  test_img = cv2.putText(test_img, \"Sea bed\", (100,15), cv2.FONT_HERSHEY_SIMPLEX, 0.5, (0,0,0), 2)\r\n",
        "\r\n",
        "test_img = cv2.cvtColor(test_img, cv2.COLOR_BGR2RGB)\r\n",
        "plt.imshow(test_img)\r\n",
        "plt.savefig(\"test_img.jpg\")"
      ],
      "outputs": [],
      "metadata": {
        "id": "t0C35uvwSn9h"
      }
    }
  ]
}